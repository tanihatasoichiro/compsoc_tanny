{
 "cells": [
  {
   "cell_type": "code",
   "execution_count": 1,
   "metadata": {},
   "outputs": [],
   "source": [
    "from compsoc.profile import Profile\n",
    "from compsoc.voter_model import generate_distorted_from_normal_profile"
   ]
  },
  {
   "attachments": {},
   "cell_type": "markdown",
   "metadata": {},
   "source": [
    "Test of Profile distorsion"
   ]
  },
  {
   "cell_type": "code",
   "execution_count": 2,
   "metadata": {},
   "outputs": [],
   "source": [
    "# non-distorted\n",
    "p = Profile({(17, (3,1,2,0)), (40, (3,2,0,1)), (52, (1,0,2,3))})"
   ]
  },
  {
   "cell_type": "code",
   "execution_count": 3,
   "metadata": {},
   "outputs": [
    {
     "data": {
      "text/plain": [
       "{(17, (3, 1, 2)), (40, (3, 2, 0)), (52, (1, 0, 2))}"
      ]
     },
     "execution_count": 3,
     "metadata": {},
     "output_type": "execute_result"
    }
   ],
   "source": [
    "p1 = generate_distorted_from_normal_profile(p, 0.2)\n",
    "p1.pairs"
   ]
  },
  {
   "attachments": {},
   "cell_type": "markdown",
   "metadata": {},
   "source": [
    "Test of Profile class"
   ]
  },
  {
   "cell_type": "code",
   "execution_count": 4,
   "metadata": {},
   "outputs": [],
   "source": [
    "# distorted\n",
    "p1 = Profile({(17, (3,0)), (40, (1,2)), (52, (1,2,3))}, 4, True)"
   ]
  },
  {
   "cell_type": "code",
   "execution_count": 5,
   "metadata": {},
   "outputs": [],
   "source": [
    "# non-distorted\n",
    "p2 = Profile({(17, (3,0,2,1)), (40, (3,0,1,2)), (52, (1,0,2,3))})"
   ]
  },
  {
   "cell_type": "code",
   "execution_count": 6,
   "metadata": {},
   "outputs": [
    {
     "data": {
      "text/plain": [
       "{(17, (3, 0, 2, 1)), (40, (3, 0, 1, 2)), (52, (1, 0, 2, 3))}"
      ]
     },
     "execution_count": 6,
     "metadata": {},
     "output_type": "execute_result"
    }
   ],
   "source": [
    "p2.pairs"
   ]
  },
  {
   "cell_type": "code",
   "execution_count": 7,
   "metadata": {},
   "outputs": [
    {
     "data": {
      "text/plain": [
       "{(17, (3, 0)), (40, (1, 2)), (52, (1, 2, 3))}"
      ]
     },
     "execution_count": 7,
     "metadata": {},
     "output_type": "execute_result"
    }
   ],
   "source": [
    "p1.pairs"
   ]
  },
  {
   "cell_type": "code",
   "execution_count": 8,
   "metadata": {},
   "outputs": [
    {
     "data": {
      "text/plain": [
       "75"
      ]
     },
     "execution_count": 8,
     "metadata": {},
     "output_type": "execute_result"
    }
   ],
   "source": [
    "p2.get_net_preference(1,2)"
   ]
  },
  {
   "cell_type": "code",
   "execution_count": 9,
   "metadata": {},
   "outputs": [
    {
     "data": {
      "text/plain": [
       "92"
      ]
     },
     "execution_count": 9,
     "metadata": {},
     "output_type": "execute_result"
    }
   ],
   "source": [
    "p1.get_net_preference(1,2)"
   ]
  },
  {
   "cell_type": "code",
   "execution_count": 10,
   "metadata": {},
   "outputs": [
    {
     "data": {
      "text/plain": [
       "False"
      ]
     },
     "execution_count": 10,
     "metadata": {},
     "output_type": "execute_result"
    }
   ],
   "source": [
    "p2.does_pareto_dominate(1,2)"
   ]
  },
  {
   "cell_type": "code",
   "execution_count": 11,
   "metadata": {},
   "outputs": [
    {
     "data": {
      "text/plain": [
       "True"
      ]
     },
     "execution_count": 11,
     "metadata": {},
     "output_type": "execute_result"
    }
   ],
   "source": [
    "p1.does_pareto_dominate(1,2)"
   ]
  },
  {
   "cell_type": "code",
   "execution_count": 12,
   "metadata": {},
   "outputs": [
    {
     "data": {
      "text/plain": [
       "[(0, 218), (1, 196), (2, 69), (3, 171)]"
      ]
     },
     "execution_count": 12,
     "metadata": {},
     "output_type": "execute_result"
    }
   ],
   "source": [
    "from compsoc.voting_rules.borda import borda_rule\n",
    "p2.score(borda_rule)"
   ]
  },
  {
   "cell_type": "code",
   "execution_count": 13,
   "metadata": {},
   "outputs": [
    {
     "data": {
      "text/plain": [
       "[(0, 34), (1, 276), (2, 184), (3, 103)]"
      ]
     },
     "execution_count": 13,
     "metadata": {},
     "output_type": "execute_result"
    }
   ],
   "source": [
    "p1.score(borda_rule)"
   ]
  },
  {
   "cell_type": "code",
   "execution_count": 14,
   "metadata": {},
   "outputs": [
    {
     "data": {
      "text/plain": [
       "[(0, 218), (1, 196), (3, 171), (2, 69)]"
      ]
     },
     "execution_count": 14,
     "metadata": {},
     "output_type": "execute_result"
    }
   ],
   "source": [
    "p2.ranking(borda_rule)"
   ]
  },
  {
   "cell_type": "code",
   "execution_count": 15,
   "metadata": {},
   "outputs": [
    {
     "data": {
      "text/plain": [
       "[(1, 276), (2, 184), (3, 103), (0, 34)]"
      ]
     },
     "execution_count": 15,
     "metadata": {},
     "output_type": "execute_result"
    }
   ],
   "source": [
    "p1.ranking(borda_rule)"
   ]
  },
  {
   "cell_type": "code",
   "execution_count": 16,
   "metadata": {},
   "outputs": [
    {
     "data": {
      "text/plain": [
       "{0}"
      ]
     },
     "execution_count": 16,
     "metadata": {},
     "output_type": "execute_result"
    }
   ],
   "source": [
    "p2.winners(borda_rule)"
   ]
  },
  {
   "cell_type": "code",
   "execution_count": 17,
   "metadata": {},
   "outputs": [
    {
     "data": {
      "text/plain": [
       "{1}"
      ]
     },
     "execution_count": 17,
     "metadata": {},
     "output_type": "execute_result"
    }
   ],
   "source": [
    "p1.winners(borda_rule)"
   ]
  },
  {
   "cell_type": "code",
   "execution_count": 18,
   "metadata": {},
   "outputs": [
    {
     "data": {
      "text/plain": [
       "{0: {0: 0, 1: 5, 2: 109, 3: -5},\n",
       " 1: {0: -5, 1: 0, 2: 75, 3: -5},\n",
       " 2: {0: -109, 1: -75, 2: 0, 3: -5},\n",
       " 3: {0: 5, 1: 5, 2: 5, 3: 0}}"
      ]
     },
     "execution_count": 18,
     "metadata": {},
     "output_type": "execute_result"
    }
   ],
   "source": [
    "p2.net_preference_graph"
   ]
  },
  {
   "cell_type": "code",
   "execution_count": 19,
   "metadata": {},
   "outputs": [
    {
     "data": {
      "text/plain": [
       "{0: {0: 0, 1: 0, 2: 0, 3: -17},\n",
       " 1: {0: 0, 1: 0, 2: 92, 3: 52},\n",
       " 2: {0: 0, 1: -92, 2: 0, 3: 52},\n",
       " 3: {0: 17, 1: -52, 2: -52, 3: 0}}"
      ]
     },
     "execution_count": 19,
     "metadata": {},
     "output_type": "execute_result"
    }
   ],
   "source": [
    "p1.net_preference_graph"
   ]
  },
  {
   "cell_type": "code",
   "execution_count": 20,
   "metadata": {},
   "outputs": [
    {
     "data": {
      "text/plain": [
       "[{0: 0, 1: 109, 2: 0, 3: 0},\n",
       " {0: 52, 1: 0, 2: 40, 3: 17},\n",
       " {0: 0, 1: 0, 2: 69, 3: 40},\n",
       " {0: 57, 1: 0, 2: 0, 3: 52}]"
      ]
     },
     "execution_count": 20,
     "metadata": {},
     "output_type": "execute_result"
    }
   ],
   "source": [
    "p2.votes_per_candidate"
   ]
  },
  {
   "cell_type": "code",
   "execution_count": 21,
   "metadata": {},
   "outputs": [
    {
     "data": {
      "text/plain": [
       "[{0: 0, 1: 17, 2: 0, 3: 0},\n",
       " {0: 92, 1: 0, 2: 0, 3: 0},\n",
       " {0: 0, 1: 92, 2: 0, 3: 0},\n",
       " {0: 17, 1: 0, 2: 52, 3: 0}]"
      ]
     },
     "execution_count": 21,
     "metadata": {},
     "output_type": "execute_result"
    }
   ],
   "source": [
    "p1.votes_per_candidate"
   ]
  },
  {
   "attachments": {},
   "cell_type": "markdown",
   "metadata": {},
   "source": [
    "Test of voting rules"
   ]
  },
  {
   "cell_type": "code",
   "execution_count": 22,
   "metadata": {},
   "outputs": [],
   "source": [
    "from compsoc.voting_rules.borda_gamma import get_borda_gamma"
   ]
  },
  {
   "cell_type": "code",
   "execution_count": 23,
   "metadata": {},
   "outputs": [],
   "source": [
    "borda05 = get_borda_gamma(0.6)"
   ]
  },
  {
   "cell_type": "code",
   "execution_count": 24,
   "metadata": {},
   "outputs": [
    {
     "data": {
      "text/plain": [
       "[(1, 92.0), (2, 55.2), (3, 35.72), (0, 10.2)]"
      ]
     },
     "execution_count": 24,
     "metadata": {},
     "output_type": "execute_result"
    }
   ],
   "source": [
    "p1.ranking(borda05)"
   ]
  },
  {
   "cell_type": "code",
   "execution_count": 25,
   "metadata": {},
   "outputs": [
    {
     "data": {
      "text/plain": [
       "[(1, 92.0),\n",
       " (3, 68.9055775934234),\n",
       " (2, 37.75443957103069),\n",
       " (0, 2.4241712324020375)]"
      ]
     },
     "execution_count": 25,
     "metadata": {},
     "output_type": "execute_result"
    }
   ],
   "source": [
    "from compsoc.voting_rules.borda_random import borda_random_gamma\n",
    "p1.ranking(borda_random_gamma)"
   ]
  },
  {
   "cell_type": "code",
   "execution_count": 26,
   "metadata": {},
   "outputs": [
    {
     "data": {
      "text/plain": [
       "[(1, 2), (2, 0), (0, -1), (3, -1)]"
      ]
     },
     "execution_count": 26,
     "metadata": {},
     "output_type": "execute_result"
    }
   ],
   "source": [
    "#no change to copeland_rule\n",
    "from compsoc.voting_rules.copeland import copeland_rule\n",
    "p1.ranking(copeland_rule)"
   ]
  },
  {
   "cell_type": "code",
   "execution_count": 27,
   "metadata": {},
   "outputs": [
    {
     "data": {
      "text/plain": [
       "[(3, 3), (0, 1), (1, -1), (2, -3)]"
      ]
     },
     "execution_count": 27,
     "metadata": {},
     "output_type": "execute_result"
    }
   ],
   "source": [
    "p2.ranking(copeland_rule)"
   ]
  },
  {
   "cell_type": "code",
   "execution_count": 28,
   "metadata": {},
   "outputs": [
    {
     "data": {
      "text/plain": [
       "[(1, 276.0), (2, 92.0), (3, 68.33333333333333), (0, 17.0)]"
      ]
     },
     "execution_count": 28,
     "metadata": {},
     "output_type": "execute_result"
    }
   ],
   "source": [
    "from compsoc.voting_rules.dowdall import dowdall_rule\n",
    "p1.ranking(dowdall_rule)"
   ]
  },
  {
   "cell_type": "code",
   "execution_count": 29,
   "metadata": {},
   "outputs": [
    {
     "data": {
      "text/plain": [
       "[(1, 0), (0, -17), (3, -52), (2, -92)]"
      ]
     },
     "execution_count": 29,
     "metadata": {},
     "output_type": "execute_result"
    }
   ],
   "source": [
    "#also no change to simpson rule\n",
    "from compsoc.voting_rules.simpson import simpson_rule\n",
    "p1.ranking(simpson_rule)"
   ]
  },
  {
   "attachments": {},
   "cell_type": "markdown",
   "metadata": {},
   "source": [
    "Test plot"
   ]
  },
  {
   "cell_type": "code",
   "execution_count": 30,
   "metadata": {},
   "outputs": [
    {
     "name": "stdout",
     "output_type": "stream",
     "text": [
      "{(1, (4, 2, 5, 1, 0, 3)), (1, (5, 0, 1, 3, 2, 4)), (1, (5, 0, 3, 4, 2, 1)), (1, (4, 5, 2, 0, 3, 1)), (1, (5, 3, 2, 1, 0, 4)), (1, (2, 4, 5, 1, 0, 3)), (1, (0, 1, 5, 3, 2, 4)), (1, (4, 5, 1, 3, 2, 0)), (1, (2, 5, 1, 4, 3, 0)), (2, (4, 5, 1, 0, 2, 3)), (1, (5, 4, 3, 1, 2, 0)), (1, (5, 0, 3, 1, 2, 4)), (1, (0, 3, 5, 1, 2, 4)), (1, (5, 1, 3, 0, 4, 2)), (1, (5, 1, 4, 0, 2, 3)), (1, (1, 2, 0, 4, 5, 3)), (1, (4, 5, 2, 3, 1, 0)), (1, (0, 2, 1, 5, 4, 3)), (1, (3, 4, 5, 0, 2, 1)), (1, (5, 0, 4, 2, 1, 3)), (1, (1, 0, 3, 4, 5, 2)), (1, (3, 2, 4, 1, 0, 5)), (1, (3, 5, 2, 0, 4, 1)), (2, (1, 5, 0, 3, 2, 4)), (1, (2, 0, 3, 4, 5, 1)), (1, (4, 1, 3, 0, 5, 2)), (1, (2, 0, 3, 1, 5, 4)), (1, (3, 2, 0, 1, 4, 5)), (1, (4, 1, 5, 3, 0, 2)), (1, (3, 4, 2, 0, 1, 5)), (1, (1, 0, 3, 5, 2, 4)), (1, (1, 5, 0, 4, 3, 2)), (1, (3, 0, 5, 4, 1, 2)), (1, (5, 1, 4, 3, 2, 0)), (1, (3, 2, 5, 4, 1, 0)), (1, (5, 3, 4, 0, 1, 2)), (1, (2, 1, 4, 0, 3, 5)), (1, (4, 5, 3, 1, 2, 0)), (1, (4, 2, 0, 1, 3, 5)), (2, (5, 4, 2, 3, 0, 1)), (2, (4, 0, 5, 2, 3, 1)), (1, (5, 0, 3, 1, 4, 2)), (1, (0, 3, 1, 4, 5, 2)), (1, (0, 5, 2, 3, 1, 4)), (1, (4, 5, 1, 2, 0, 3)), (1, (0, 3, 1, 5, 2, 4)), (1, (0, 4, 2, 3, 5, 1)), (1, (0, 5, 3, 2, 4, 1)), (1, (0, 5, 1, 4, 3, 2)), (1, (0, 3, 1, 2, 5, 4)), (1, (2, 5, 3, 0, 1, 4)), (1, (5, 4, 1, 2, 0, 3)), (1, (3, 4, 2, 5, 0, 1)), (1, (4, 0, 1, 3, 5, 2)), (1, (5, 3, 1, 0, 2, 4)), (1, (4, 0, 2, 1, 3, 5)), (1, (5, 0, 4, 3, 2, 1)), (1, (1, 0, 5, 2, 4, 3)), (1, (4, 2, 0, 5, 3, 1)), (1, (1, 3, 5, 4, 0, 2)), (1, (5, 4, 1, 2, 3, 0)), (1, (1, 2, 5, 3, 0, 4)), (1, (1, 4, 2, 5, 0, 3)), (1, (0, 1, 4, 2, 5, 3)), (1, (1, 2, 3, 5, 0, 4)), (1, (3, 2, 0, 4, 1, 5)), (1, (5, 1, 2, 4, 0, 3)), (1, (1, 0, 4, 5, 3, 2)), (1, (3, 2, 0, 1, 5, 4)), (1, (3, 0, 2, 5, 1, 4)), (1, (2, 0, 4, 1, 3, 5)), (1, (1, 5, 3, 0, 4, 2)), (1, (2, 5, 4, 3, 1, 0)), (1, (5, 4, 3, 0, 1, 2)), (1, (2, 0, 3, 1, 4, 5)), (1, (5, 0, 4, 3, 1, 2)), (1, (2, 1, 4, 5, 3, 0)), (1, (5, 1, 3, 4, 2, 0)), (1, (3, 4, 1, 5, 2, 0)), (1, (2, 4, 3, 5, 1, 0)), (1, (5, 2, 3, 4, 1, 0)), (1, (4, 1, 5, 2, 3, 0)), (1, (4, 5, 0, 1, 2, 3)), (1, (1, 3, 2, 5, 0, 4)), (1, (2, 3, 0, 1, 4, 5)), (1, (3, 5, 4, 2, 1, 0)), (1, (3, 1, 0, 5, 2, 4)), (1, (4, 2, 0, 5, 1, 3)), (1, (4, 2, 5, 0, 3, 1)), (1, (0, 2, 1, 3, 5, 4)), (1, (1, 3, 5, 2, 4, 0)), (1, (3, 5, 4, 0, 1, 2)), (1, (0, 4, 5, 2, 3, 1)), (1, (0, 5, 2, 4, 1, 3)), (1, (1, 2, 5, 3, 4, 0)), (1, (4, 3, 2, 5, 1, 0))}\n"
     ]
    },
    {
     "data": {
      "text/plain": [
       "{'Borda': {'top': 63.83333333333333, 'topn': 125.66666666666667},\n",
       " 'Copeland': {'top': 63.66666666666667, 'topn': 125.33333333333331},\n",
       " 'Dowdall': {'top': 63.83333333333333, 'topn': 125.66666666666667},\n",
       " 'Simpson': {'top': 64.16666666666666, 'topn': 124.66666666666664},\n",
       " 'Borda Gamma(1.0)': {'top': 53.5, 'topn': 111.33333333333334},\n",
       " 'Borda Gamma(0.99)': {'top': 63.83333333333333, 'topn': 125.66666666666667},\n",
       " 'Borda Gamma(0.75)': {'top': 63.83333333333333, 'topn': 125.66666666666667},\n",
       " 'Borda Gamma(0.6)': {'top': 63.83333333333333, 'topn': 125.66666666666667},\n",
       " 'Borda Gamma(0.25)': {'top': 64.16666666666666, 'topn': 124.66666666666664},\n",
       " 'Borda Gamma(0.01)': {'top': 64.33333333333334, 'topn': 123.33333333333333}}"
      ]
     },
     "execution_count": 30,
     "metadata": {},
     "output_type": "execute_result"
    }
   ],
   "source": [
    "from compsoc.evaluate import evaluate_voting_rules\n",
    "evaluate_voting_rules(6, 100, 2, 'random')"
   ]
  },
  {
   "cell_type": "code",
   "execution_count": 33,
   "metadata": {},
   "outputs": [
    {
     "name": "stdout",
     "output_type": "stream",
     "text": [
      "{(12, (3,)), (19, (1,)), (13, (5,)), (15, (0,)), (17, (4,)), (24, (2,))}\n"
     ]
    },
    {
     "data": {
      "text/plain": [
       "{'Borda': {'top': 65.0, 'topn': 65.0},\n",
       " 'Copeland': {'top': 60.666666666666664, 'topn': 60.666666666666664},\n",
       " 'Dowdall': {'top': 65.0, 'topn': 65.0},\n",
       " 'Simpson': {'top': 60.666666666666664, 'topn': 60.666666666666664},\n",
       " 'Borda Gamma(1.0)': {'top': 65.0, 'topn': 65.0},\n",
       " 'Borda Gamma(0.99)': {'top': 65.0, 'topn': 65.0},\n",
       " 'Borda Gamma(0.75)': {'top': 65.0, 'topn': 65.0},\n",
       " 'Borda Gamma(0.6)': {'top': 65.0, 'topn': 65.0},\n",
       " 'Borda Gamma(0.25)': {'top': 65.0, 'topn': 65.0},\n",
       " 'Borda Gamma(0.01)': {'top': 65.0, 'topn': 65.0}}"
      ]
     },
     "execution_count": 33,
     "metadata": {},
     "output_type": "execute_result"
    }
   ],
   "source": [
    "evaluate_voting_rules(6, 100, 2, 'random', 1)"
   ]
  }
 ],
 "metadata": {
  "kernelspec": {
   "display_name": "base",
   "language": "python",
   "name": "python3"
  },
  "language_info": {
   "codemirror_mode": {
    "name": "ipython",
    "version": 3
   },
   "file_extension": ".py",
   "mimetype": "text/x-python",
   "name": "python",
   "nbconvert_exporter": "python",
   "pygments_lexer": "ipython3",
   "version": "3.10.9"
  },
  "orig_nbformat": 4
 },
 "nbformat": 4,
 "nbformat_minor": 2
}
